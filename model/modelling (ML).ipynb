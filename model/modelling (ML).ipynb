{
 "cells": [
  {
   "cell_type": "markdown",
   "metadata": {},
   "source": [
    "# Training (ML models)"
   ]
  },
  {
   "cell_type": "code",
   "execution_count": 117,
   "metadata": {},
   "outputs": [],
   "source": [
    "import pandas as pd\n",
    "import numpy as np\n",
    "\n",
    "from sklearn.metrics import mean_squared_error, make_scorer\n",
    "\n",
    "from sklearn.model_selection import TimeSeriesSplit, KFold\n",
    "from sklearn.model_selection import cross_val_score\n",
    "from sklearn.base import clone\n",
    "\n",
    "from sklearn.tree import DecisionTreeRegressor\n",
    "from sklearn.ensemble import RandomForestRegressor\n",
    "from sklearn.ensemble import BaggingRegressor\n",
    "from sklearn.ensemble import ExtraTreesRegressor \n",
    "from sklearn.linear_model import LinearRegression \n",
    "from sklearn.neural_network import MLPRegressor\n",
    "from sklearn.neighbors import KNeighborsRegressor \n",
    "from sklearn.svm import SVR\n",
    "\n",
    "import lightgbm as lgb\n",
    "\n",
    "import pickle"
   ]
  },
  {
   "cell_type": "code",
   "execution_count": 2,
   "metadata": {},
   "outputs": [],
   "source": [
    "import warnings\n",
    "warnings.filterwarnings(\"ignore\")"
   ]
  },
  {
   "cell_type": "code",
   "execution_count": 3,
   "metadata": {},
   "outputs": [],
   "source": [
    "df_new = pd.read_csv('train.csv', index_col=0)"
   ]
  },
  {
   "cell_type": "code",
   "execution_count": 4,
   "metadata": {
    "scrolled": false
   },
   "outputs": [
    {
     "data": {
      "text/html": [
       "<div>\n",
       "<style scoped>\n",
       "    .dataframe tbody tr th:only-of-type {\n",
       "        vertical-align: middle;\n",
       "    }\n",
       "\n",
       "    .dataframe tbody tr th {\n",
       "        vertical-align: top;\n",
       "    }\n",
       "\n",
       "    .dataframe thead th {\n",
       "        text-align: right;\n",
       "    }\n",
       "</style>\n",
       "<table border=\"1\" class=\"dataframe\">\n",
       "  <thead>\n",
       "    <tr style=\"text-align: right;\">\n",
       "      <th></th>\n",
       "      <th>date</th>\n",
       "      <th>cases_new</th>\n",
       "      <th>state_id</th>\n",
       "      <th>cases_recovered</th>\n",
       "      <th>cases_death</th>\n",
       "      <th>cases_active</th>\n",
       "      <th>checkins</th>\n",
       "      <th>unique_ind</th>\n",
       "      <th>cumul_full</th>\n",
       "      <th>pop</th>\n",
       "      <th>percent_vax</th>\n",
       "    </tr>\n",
       "  </thead>\n",
       "  <tbody>\n",
       "    <tr>\n",
       "      <th>0</th>\n",
       "      <td>2021-02-24</td>\n",
       "      <td>3545</td>\n",
       "      <td>1</td>\n",
       "      <td>3331</td>\n",
       "      <td>12</td>\n",
       "      <td>30572</td>\n",
       "      <td>19689234</td>\n",
       "      <td>7518288</td>\n",
       "      <td>3</td>\n",
       "      <td>32657400</td>\n",
       "      <td>0.00</td>\n",
       "    </tr>\n",
       "    <tr>\n",
       "      <th>1</th>\n",
       "      <td>2021-02-25</td>\n",
       "      <td>1924</td>\n",
       "      <td>1</td>\n",
       "      <td>3752</td>\n",
       "      <td>13</td>\n",
       "      <td>28738</td>\n",
       "      <td>20130990</td>\n",
       "      <td>7666194</td>\n",
       "      <td>5</td>\n",
       "      <td>32657400</td>\n",
       "      <td>0.00</td>\n",
       "    </tr>\n",
       "    <tr>\n",
       "      <th>2</th>\n",
       "      <td>2021-02-26</td>\n",
       "      <td>2253</td>\n",
       "      <td>1</td>\n",
       "      <td>3085</td>\n",
       "      <td>10</td>\n",
       "      <td>27903</td>\n",
       "      <td>20975140</td>\n",
       "      <td>7806991</td>\n",
       "      <td>8</td>\n",
       "      <td>32657400</td>\n",
       "      <td>0.00</td>\n",
       "    </tr>\n",
       "    <tr>\n",
       "      <th>3</th>\n",
       "      <td>2021-02-27</td>\n",
       "      <td>2364</td>\n",
       "      <td>1</td>\n",
       "      <td>3320</td>\n",
       "      <td>10</td>\n",
       "      <td>26937</td>\n",
       "      <td>22978495</td>\n",
       "      <td>7891208</td>\n",
       "      <td>14</td>\n",
       "      <td>32657400</td>\n",
       "      <td>0.00</td>\n",
       "    </tr>\n",
       "    <tr>\n",
       "      <th>4</th>\n",
       "      <td>2021-02-28</td>\n",
       "      <td>2437</td>\n",
       "      <td>1</td>\n",
       "      <td>3251</td>\n",
       "      <td>9</td>\n",
       "      <td>26118</td>\n",
       "      <td>22162834</td>\n",
       "      <td>7669665</td>\n",
       "      <td>19</td>\n",
       "      <td>32657400</td>\n",
       "      <td>0.00</td>\n",
       "    </tr>\n",
       "    <tr>\n",
       "      <th>...</th>\n",
       "      <td>...</td>\n",
       "      <td>...</td>\n",
       "      <td>...</td>\n",
       "      <td>...</td>\n",
       "      <td>...</td>\n",
       "      <td>...</td>\n",
       "      <td>...</td>\n",
       "      <td>...</td>\n",
       "      <td>...</td>\n",
       "      <td>...</td>\n",
       "      <td>...</td>\n",
       "    </tr>\n",
       "    <tr>\n",
       "      <th>5180</th>\n",
       "      <td>2021-12-25</td>\n",
       "      <td>802</td>\n",
       "      <td>11</td>\n",
       "      <td>1151</td>\n",
       "      <td>6</td>\n",
       "      <td>12390</td>\n",
       "      <td>7272213</td>\n",
       "      <td>3243895</td>\n",
       "      <td>4759977</td>\n",
       "      <td>6538000</td>\n",
       "      <td>0.73</td>\n",
       "    </tr>\n",
       "    <tr>\n",
       "      <th>5181</th>\n",
       "      <td>2021-12-25</td>\n",
       "      <td>183</td>\n",
       "      <td>12</td>\n",
       "      <td>111</td>\n",
       "      <td>1</td>\n",
       "      <td>2453</td>\n",
       "      <td>496077</td>\n",
       "      <td>260964</td>\n",
       "      <td>877237</td>\n",
       "      <td>1259300</td>\n",
       "      <td>0.70</td>\n",
       "    </tr>\n",
       "    <tr>\n",
       "      <th>5182</th>\n",
       "      <td>2021-12-25</td>\n",
       "      <td>159</td>\n",
       "      <td>15</td>\n",
       "      <td>326</td>\n",
       "      <td>2</td>\n",
       "      <td>3482</td>\n",
       "      <td>5404399</td>\n",
       "      <td>2379561</td>\n",
       "      <td>3019764</td>\n",
       "      <td>1773700</td>\n",
       "      <td>1.70</td>\n",
       "    </tr>\n",
       "    <tr>\n",
       "      <th>5183</th>\n",
       "      <td>2021-12-25</td>\n",
       "      <td>2</td>\n",
       "      <td>16</td>\n",
       "      <td>10</td>\n",
       "      <td>0</td>\n",
       "      <td>62</td>\n",
       "      <td>71513</td>\n",
       "      <td>28947</td>\n",
       "      <td>79555</td>\n",
       "      <td>99600</td>\n",
       "      <td>0.80</td>\n",
       "    </tr>\n",
       "    <tr>\n",
       "      <th>5184</th>\n",
       "      <td>2021-12-25</td>\n",
       "      <td>29</td>\n",
       "      <td>17</td>\n",
       "      <td>28</td>\n",
       "      <td>0</td>\n",
       "      <td>425</td>\n",
       "      <td>279119</td>\n",
       "      <td>168436</td>\n",
       "      <td>146269</td>\n",
       "      <td>110000</td>\n",
       "      <td>1.33</td>\n",
       "    </tr>\n",
       "  </tbody>\n",
       "</table>\n",
       "<p>5185 rows × 11 columns</p>\n",
       "</div>"
      ],
      "text/plain": [
       "            date  cases_new  state_id  cases_recovered  cases_death  \\\n",
       "0     2021-02-24       3545         1             3331           12   \n",
       "1     2021-02-25       1924         1             3752           13   \n",
       "2     2021-02-26       2253         1             3085           10   \n",
       "3     2021-02-27       2364         1             3320           10   \n",
       "4     2021-02-28       2437         1             3251            9   \n",
       "...          ...        ...       ...              ...          ...   \n",
       "5180  2021-12-25        802        11             1151            6   \n",
       "5181  2021-12-25        183        12              111            1   \n",
       "5182  2021-12-25        159        15              326            2   \n",
       "5183  2021-12-25          2        16               10            0   \n",
       "5184  2021-12-25         29        17               28            0   \n",
       "\n",
       "      cases_active  checkins  unique_ind  cumul_full       pop  percent_vax  \n",
       "0            30572  19689234     7518288           3  32657400         0.00  \n",
       "1            28738  20130990     7666194           5  32657400         0.00  \n",
       "2            27903  20975140     7806991           8  32657400         0.00  \n",
       "3            26937  22978495     7891208          14  32657400         0.00  \n",
       "4            26118  22162834     7669665          19  32657400         0.00  \n",
       "...            ...       ...         ...         ...       ...          ...  \n",
       "5180         12390   7272213     3243895     4759977   6538000         0.73  \n",
       "5181          2453    496077      260964      877237   1259300         0.70  \n",
       "5182          3482   5404399     2379561     3019764   1773700         1.70  \n",
       "5183            62     71513       28947       79555     99600         0.80  \n",
       "5184           425    279119      168436      146269    110000         1.33  \n",
       "\n",
       "[5185 rows x 11 columns]"
      ]
     },
     "execution_count": 4,
     "metadata": {},
     "output_type": "execute_result"
    }
   ],
   "source": [
    "df_new"
   ]
  },
  {
   "cell_type": "code",
   "execution_count": 5,
   "metadata": {
    "scrolled": true
   },
   "outputs": [
    {
     "data": {
      "text/html": [
       "<div>\n",
       "<style scoped>\n",
       "    .dataframe tbody tr th:only-of-type {\n",
       "        vertical-align: middle;\n",
       "    }\n",
       "\n",
       "    .dataframe tbody tr th {\n",
       "        vertical-align: top;\n",
       "    }\n",
       "\n",
       "    .dataframe thead th {\n",
       "        text-align: right;\n",
       "    }\n",
       "</style>\n",
       "<table border=\"1\" class=\"dataframe\">\n",
       "  <thead>\n",
       "    <tr style=\"text-align: right;\">\n",
       "      <th></th>\n",
       "      <th>cases_new</th>\n",
       "      <th>cases_active</th>\n",
       "      <th>checkins</th>\n",
       "      <th>unique_ind</th>\n",
       "      <th>percent_vax</th>\n",
       "    </tr>\n",
       "  </thead>\n",
       "  <tbody>\n",
       "    <tr>\n",
       "      <th>320</th>\n",
       "      <td>1</td>\n",
       "      <td>51</td>\n",
       "      <td>195780</td>\n",
       "      <td>113866</td>\n",
       "      <td>0.00</td>\n",
       "    </tr>\n",
       "    <tr>\n",
       "      <th>336</th>\n",
       "      <td>2</td>\n",
       "      <td>48</td>\n",
       "      <td>204087</td>\n",
       "      <td>118093</td>\n",
       "      <td>0.00</td>\n",
       "    </tr>\n",
       "    <tr>\n",
       "      <th>352</th>\n",
       "      <td>0</td>\n",
       "      <td>40</td>\n",
       "      <td>242938</td>\n",
       "      <td>136399</td>\n",
       "      <td>0.00</td>\n",
       "    </tr>\n",
       "    <tr>\n",
       "      <th>368</th>\n",
       "      <td>4</td>\n",
       "      <td>41</td>\n",
       "      <td>263675</td>\n",
       "      <td>142624</td>\n",
       "      <td>0.00</td>\n",
       "    </tr>\n",
       "    <tr>\n",
       "      <th>384</th>\n",
       "      <td>3</td>\n",
       "      <td>41</td>\n",
       "      <td>276508</td>\n",
       "      <td>151866</td>\n",
       "      <td>0.00</td>\n",
       "    </tr>\n",
       "    <tr>\n",
       "      <th>...</th>\n",
       "      <td>...</td>\n",
       "      <td>...</td>\n",
       "      <td>...</td>\n",
       "      <td>...</td>\n",
       "      <td>...</td>\n",
       "    </tr>\n",
       "    <tr>\n",
       "      <th>5120</th>\n",
       "      <td>35</td>\n",
       "      <td>464</td>\n",
       "      <td>274414</td>\n",
       "      <td>164392</td>\n",
       "      <td>1.33</td>\n",
       "    </tr>\n",
       "    <tr>\n",
       "      <th>5136</th>\n",
       "      <td>20</td>\n",
       "      <td>459</td>\n",
       "      <td>269936</td>\n",
       "      <td>162751</td>\n",
       "      <td>1.33</td>\n",
       "    </tr>\n",
       "    <tr>\n",
       "      <th>5152</th>\n",
       "      <td>29</td>\n",
       "      <td>455</td>\n",
       "      <td>275508</td>\n",
       "      <td>165831</td>\n",
       "      <td>1.33</td>\n",
       "    </tr>\n",
       "    <tr>\n",
       "      <th>5168</th>\n",
       "      <td>23</td>\n",
       "      <td>424</td>\n",
       "      <td>305446</td>\n",
       "      <td>180501</td>\n",
       "      <td>1.33</td>\n",
       "    </tr>\n",
       "    <tr>\n",
       "      <th>5184</th>\n",
       "      <td>29</td>\n",
       "      <td>425</td>\n",
       "      <td>279119</td>\n",
       "      <td>168436</td>\n",
       "      <td>1.33</td>\n",
       "    </tr>\n",
       "  </tbody>\n",
       "</table>\n",
       "<p>305 rows × 5 columns</p>\n",
       "</div>"
      ],
      "text/plain": [
       "      cases_new  cases_active  checkins  unique_ind  percent_vax\n",
       "320           1            51    195780      113866         0.00\n",
       "336           2            48    204087      118093         0.00\n",
       "352           0            40    242938      136399         0.00\n",
       "368           4            41    263675      142624         0.00\n",
       "384           3            41    276508      151866         0.00\n",
       "...         ...           ...       ...         ...          ...\n",
       "5120         35           464    274414      164392         1.33\n",
       "5136         20           459    269936      162751         1.33\n",
       "5152         29           455    275508      165831         1.33\n",
       "5168         23           424    305446      180501         1.33\n",
       "5184         29           425    279119      168436         1.33\n",
       "\n",
       "[305 rows x 5 columns]"
      ]
     },
     "execution_count": 5,
     "metadata": {},
     "output_type": "execute_result"
    }
   ],
   "source": [
    "state = 17\n",
    "columns = ['cases_new','cases_active','checkins','unique_ind','percent_vax']\n",
    "df = df_new[df_new['state_id']==state]\n",
    "df = df[columns]\n",
    "df"
   ]
  },
  {
   "cell_type": "code",
   "execution_count": 6,
   "metadata": {},
   "outputs": [],
   "source": [
    "n_days = 10\n",
    "for i in range(n_days):\n",
    "    shifted_df = df.shift(i+1)\n",
    "    df['cn_'+str(i+1)] = shifted_df['cases_new']\n",
    "    #df['ca_'+str(i+1)] = shifted_df['cases_active']\n",
    "    df['ci_'+str(i+1)] = shifted_df['checkins']\n",
    "    #df['ui_'+str(i+1)] = shifted_df['unique_ind']\n",
    "df = df.dropna()\n"
   ]
  },
  {
   "cell_type": "code",
   "execution_count": 7,
   "metadata": {},
   "outputs": [],
   "source": [
    "df = df.drop(columns=['checkins', 'unique_ind'])"
   ]
  },
  {
   "cell_type": "code",
   "execution_count": 8,
   "metadata": {
    "scrolled": false
   },
   "outputs": [
    {
     "data": {
      "text/html": [
       "<div>\n",
       "<style scoped>\n",
       "    .dataframe tbody tr th:only-of-type {\n",
       "        vertical-align: middle;\n",
       "    }\n",
       "\n",
       "    .dataframe tbody tr th {\n",
       "        vertical-align: top;\n",
       "    }\n",
       "\n",
       "    .dataframe thead th {\n",
       "        text-align: right;\n",
       "    }\n",
       "</style>\n",
       "<table border=\"1\" class=\"dataframe\">\n",
       "  <thead>\n",
       "    <tr style=\"text-align: right;\">\n",
       "      <th></th>\n",
       "      <th>cases_new</th>\n",
       "      <th>cases_active</th>\n",
       "      <th>percent_vax</th>\n",
       "      <th>cn_1</th>\n",
       "      <th>ci_1</th>\n",
       "      <th>cn_2</th>\n",
       "      <th>ci_2</th>\n",
       "      <th>cn_3</th>\n",
       "      <th>ci_3</th>\n",
       "      <th>cn_4</th>\n",
       "      <th>...</th>\n",
       "      <th>cn_6</th>\n",
       "      <th>ci_6</th>\n",
       "      <th>cn_7</th>\n",
       "      <th>ci_7</th>\n",
       "      <th>cn_8</th>\n",
       "      <th>ci_8</th>\n",
       "      <th>cn_9</th>\n",
       "      <th>ci_9</th>\n",
       "      <th>cn_10</th>\n",
       "      <th>ci_10</th>\n",
       "    </tr>\n",
       "  </thead>\n",
       "  <tbody>\n",
       "    <tr>\n",
       "      <th>480</th>\n",
       "      <td>2</td>\n",
       "      <td>39</td>\n",
       "      <td>0.00</td>\n",
       "      <td>4.0</td>\n",
       "      <td>257609.0</td>\n",
       "      <td>7.0</td>\n",
       "      <td>218576.0</td>\n",
       "      <td>3.0</td>\n",
       "      <td>215573.0</td>\n",
       "      <td>1.0</td>\n",
       "      <td>...</td>\n",
       "      <td>3.0</td>\n",
       "      <td>276508.0</td>\n",
       "      <td>4.0</td>\n",
       "      <td>263675.0</td>\n",
       "      <td>0.0</td>\n",
       "      <td>242938.0</td>\n",
       "      <td>2.0</td>\n",
       "      <td>204087.0</td>\n",
       "      <td>1.0</td>\n",
       "      <td>195780.0</td>\n",
       "    </tr>\n",
       "    <tr>\n",
       "      <th>496</th>\n",
       "      <td>2</td>\n",
       "      <td>39</td>\n",
       "      <td>0.00</td>\n",
       "      <td>2.0</td>\n",
       "      <td>267004.0</td>\n",
       "      <td>4.0</td>\n",
       "      <td>257609.0</td>\n",
       "      <td>7.0</td>\n",
       "      <td>218576.0</td>\n",
       "      <td>3.0</td>\n",
       "      <td>...</td>\n",
       "      <td>6.0</td>\n",
       "      <td>222965.0</td>\n",
       "      <td>3.0</td>\n",
       "      <td>276508.0</td>\n",
       "      <td>4.0</td>\n",
       "      <td>263675.0</td>\n",
       "      <td>0.0</td>\n",
       "      <td>242938.0</td>\n",
       "      <td>2.0</td>\n",
       "      <td>204087.0</td>\n",
       "    </tr>\n",
       "    <tr>\n",
       "      <th>512</th>\n",
       "      <td>1</td>\n",
       "      <td>28</td>\n",
       "      <td>0.00</td>\n",
       "      <td>2.0</td>\n",
       "      <td>281002.0</td>\n",
       "      <td>2.0</td>\n",
       "      <td>267004.0</td>\n",
       "      <td>4.0</td>\n",
       "      <td>257609.0</td>\n",
       "      <td>7.0</td>\n",
       "      <td>...</td>\n",
       "      <td>1.0</td>\n",
       "      <td>213292.0</td>\n",
       "      <td>6.0</td>\n",
       "      <td>222965.0</td>\n",
       "      <td>3.0</td>\n",
       "      <td>276508.0</td>\n",
       "      <td>4.0</td>\n",
       "      <td>263675.0</td>\n",
       "      <td>0.0</td>\n",
       "      <td>242938.0</td>\n",
       "    </tr>\n",
       "    <tr>\n",
       "      <th>528</th>\n",
       "      <td>3</td>\n",
       "      <td>24</td>\n",
       "      <td>0.00</td>\n",
       "      <td>1.0</td>\n",
       "      <td>231706.0</td>\n",
       "      <td>2.0</td>\n",
       "      <td>281002.0</td>\n",
       "      <td>2.0</td>\n",
       "      <td>267004.0</td>\n",
       "      <td>4.0</td>\n",
       "      <td>...</td>\n",
       "      <td>3.0</td>\n",
       "      <td>215573.0</td>\n",
       "      <td>1.0</td>\n",
       "      <td>213292.0</td>\n",
       "      <td>6.0</td>\n",
       "      <td>222965.0</td>\n",
       "      <td>3.0</td>\n",
       "      <td>276508.0</td>\n",
       "      <td>4.0</td>\n",
       "      <td>263675.0</td>\n",
       "    </tr>\n",
       "    <tr>\n",
       "      <th>544</th>\n",
       "      <td>0</td>\n",
       "      <td>23</td>\n",
       "      <td>0.00</td>\n",
       "      <td>3.0</td>\n",
       "      <td>230360.0</td>\n",
       "      <td>1.0</td>\n",
       "      <td>231706.0</td>\n",
       "      <td>2.0</td>\n",
       "      <td>281002.0</td>\n",
       "      <td>2.0</td>\n",
       "      <td>...</td>\n",
       "      <td>7.0</td>\n",
       "      <td>218576.0</td>\n",
       "      <td>3.0</td>\n",
       "      <td>215573.0</td>\n",
       "      <td>1.0</td>\n",
       "      <td>213292.0</td>\n",
       "      <td>6.0</td>\n",
       "      <td>222965.0</td>\n",
       "      <td>3.0</td>\n",
       "      <td>276508.0</td>\n",
       "    </tr>\n",
       "    <tr>\n",
       "      <th>...</th>\n",
       "      <td>...</td>\n",
       "      <td>...</td>\n",
       "      <td>...</td>\n",
       "      <td>...</td>\n",
       "      <td>...</td>\n",
       "      <td>...</td>\n",
       "      <td>...</td>\n",
       "      <td>...</td>\n",
       "      <td>...</td>\n",
       "      <td>...</td>\n",
       "      <td>...</td>\n",
       "      <td>...</td>\n",
       "      <td>...</td>\n",
       "      <td>...</td>\n",
       "      <td>...</td>\n",
       "      <td>...</td>\n",
       "      <td>...</td>\n",
       "      <td>...</td>\n",
       "      <td>...</td>\n",
       "      <td>...</td>\n",
       "      <td>...</td>\n",
       "    </tr>\n",
       "    <tr>\n",
       "      <th>5120</th>\n",
       "      <td>35</td>\n",
       "      <td>464</td>\n",
       "      <td>1.33</td>\n",
       "      <td>30.0</td>\n",
       "      <td>274139.0</td>\n",
       "      <td>18.0</td>\n",
       "      <td>257589.0</td>\n",
       "      <td>35.0</td>\n",
       "      <td>236159.0</td>\n",
       "      <td>28.0</td>\n",
       "      <td>...</td>\n",
       "      <td>22.0</td>\n",
       "      <td>259230.0</td>\n",
       "      <td>27.0</td>\n",
       "      <td>265316.0</td>\n",
       "      <td>32.0</td>\n",
       "      <td>258194.0</td>\n",
       "      <td>15.0</td>\n",
       "      <td>270629.0</td>\n",
       "      <td>29.0</td>\n",
       "      <td>271727.0</td>\n",
       "    </tr>\n",
       "    <tr>\n",
       "      <th>5136</th>\n",
       "      <td>20</td>\n",
       "      <td>459</td>\n",
       "      <td>1.33</td>\n",
       "      <td>35.0</td>\n",
       "      <td>274414.0</td>\n",
       "      <td>30.0</td>\n",
       "      <td>274139.0</td>\n",
       "      <td>18.0</td>\n",
       "      <td>257589.0</td>\n",
       "      <td>35.0</td>\n",
       "      <td>...</td>\n",
       "      <td>25.0</td>\n",
       "      <td>267262.0</td>\n",
       "      <td>22.0</td>\n",
       "      <td>259230.0</td>\n",
       "      <td>27.0</td>\n",
       "      <td>265316.0</td>\n",
       "      <td>32.0</td>\n",
       "      <td>258194.0</td>\n",
       "      <td>15.0</td>\n",
       "      <td>270629.0</td>\n",
       "    </tr>\n",
       "    <tr>\n",
       "      <th>5152</th>\n",
       "      <td>29</td>\n",
       "      <td>455</td>\n",
       "      <td>1.33</td>\n",
       "      <td>20.0</td>\n",
       "      <td>269936.0</td>\n",
       "      <td>35.0</td>\n",
       "      <td>274414.0</td>\n",
       "      <td>30.0</td>\n",
       "      <td>274139.0</td>\n",
       "      <td>18.0</td>\n",
       "      <td>...</td>\n",
       "      <td>28.0</td>\n",
       "      <td>278291.0</td>\n",
       "      <td>25.0</td>\n",
       "      <td>267262.0</td>\n",
       "      <td>22.0</td>\n",
       "      <td>259230.0</td>\n",
       "      <td>27.0</td>\n",
       "      <td>265316.0</td>\n",
       "      <td>32.0</td>\n",
       "      <td>258194.0</td>\n",
       "    </tr>\n",
       "    <tr>\n",
       "      <th>5168</th>\n",
       "      <td>23</td>\n",
       "      <td>424</td>\n",
       "      <td>1.33</td>\n",
       "      <td>29.0</td>\n",
       "      <td>275508.0</td>\n",
       "      <td>20.0</td>\n",
       "      <td>269936.0</td>\n",
       "      <td>35.0</td>\n",
       "      <td>274414.0</td>\n",
       "      <td>30.0</td>\n",
       "      <td>...</td>\n",
       "      <td>35.0</td>\n",
       "      <td>236159.0</td>\n",
       "      <td>28.0</td>\n",
       "      <td>278291.0</td>\n",
       "      <td>25.0</td>\n",
       "      <td>267262.0</td>\n",
       "      <td>22.0</td>\n",
       "      <td>259230.0</td>\n",
       "      <td>27.0</td>\n",
       "      <td>265316.0</td>\n",
       "    </tr>\n",
       "    <tr>\n",
       "      <th>5184</th>\n",
       "      <td>29</td>\n",
       "      <td>425</td>\n",
       "      <td>1.33</td>\n",
       "      <td>23.0</td>\n",
       "      <td>305446.0</td>\n",
       "      <td>29.0</td>\n",
       "      <td>275508.0</td>\n",
       "      <td>20.0</td>\n",
       "      <td>269936.0</td>\n",
       "      <td>35.0</td>\n",
       "      <td>...</td>\n",
       "      <td>18.0</td>\n",
       "      <td>257589.0</td>\n",
       "      <td>35.0</td>\n",
       "      <td>236159.0</td>\n",
       "      <td>28.0</td>\n",
       "      <td>278291.0</td>\n",
       "      <td>25.0</td>\n",
       "      <td>267262.0</td>\n",
       "      <td>22.0</td>\n",
       "      <td>259230.0</td>\n",
       "    </tr>\n",
       "  </tbody>\n",
       "</table>\n",
       "<p>295 rows × 23 columns</p>\n",
       "</div>"
      ],
      "text/plain": [
       "      cases_new  cases_active  percent_vax  cn_1      ci_1  cn_2      ci_2  \\\n",
       "480           2            39         0.00   4.0  257609.0   7.0  218576.0   \n",
       "496           2            39         0.00   2.0  267004.0   4.0  257609.0   \n",
       "512           1            28         0.00   2.0  281002.0   2.0  267004.0   \n",
       "528           3            24         0.00   1.0  231706.0   2.0  281002.0   \n",
       "544           0            23         0.00   3.0  230360.0   1.0  231706.0   \n",
       "...         ...           ...          ...   ...       ...   ...       ...   \n",
       "5120         35           464         1.33  30.0  274139.0  18.0  257589.0   \n",
       "5136         20           459         1.33  35.0  274414.0  30.0  274139.0   \n",
       "5152         29           455         1.33  20.0  269936.0  35.0  274414.0   \n",
       "5168         23           424         1.33  29.0  275508.0  20.0  269936.0   \n",
       "5184         29           425         1.33  23.0  305446.0  29.0  275508.0   \n",
       "\n",
       "      cn_3      ci_3  cn_4  ...  cn_6      ci_6  cn_7      ci_7  cn_8  \\\n",
       "480    3.0  215573.0   1.0  ...   3.0  276508.0   4.0  263675.0   0.0   \n",
       "496    7.0  218576.0   3.0  ...   6.0  222965.0   3.0  276508.0   4.0   \n",
       "512    4.0  257609.0   7.0  ...   1.0  213292.0   6.0  222965.0   3.0   \n",
       "528    2.0  267004.0   4.0  ...   3.0  215573.0   1.0  213292.0   6.0   \n",
       "544    2.0  281002.0   2.0  ...   7.0  218576.0   3.0  215573.0   1.0   \n",
       "...    ...       ...   ...  ...   ...       ...   ...       ...   ...   \n",
       "5120  35.0  236159.0  28.0  ...  22.0  259230.0  27.0  265316.0  32.0   \n",
       "5136  18.0  257589.0  35.0  ...  25.0  267262.0  22.0  259230.0  27.0   \n",
       "5152  30.0  274139.0  18.0  ...  28.0  278291.0  25.0  267262.0  22.0   \n",
       "5168  35.0  274414.0  30.0  ...  35.0  236159.0  28.0  278291.0  25.0   \n",
       "5184  20.0  269936.0  35.0  ...  18.0  257589.0  35.0  236159.0  28.0   \n",
       "\n",
       "          ci_8  cn_9      ci_9  cn_10     ci_10  \n",
       "480   242938.0   2.0  204087.0    1.0  195780.0  \n",
       "496   263675.0   0.0  242938.0    2.0  204087.0  \n",
       "512   276508.0   4.0  263675.0    0.0  242938.0  \n",
       "528   222965.0   3.0  276508.0    4.0  263675.0  \n",
       "544   213292.0   6.0  222965.0    3.0  276508.0  \n",
       "...        ...   ...       ...    ...       ...  \n",
       "5120  258194.0  15.0  270629.0   29.0  271727.0  \n",
       "5136  265316.0  32.0  258194.0   15.0  270629.0  \n",
       "5152  259230.0  27.0  265316.0   32.0  258194.0  \n",
       "5168  267262.0  22.0  259230.0   27.0  265316.0  \n",
       "5184  278291.0  25.0  267262.0   22.0  259230.0  \n",
       "\n",
       "[295 rows x 23 columns]"
      ]
     },
     "execution_count": 8,
     "metadata": {},
     "output_type": "execute_result"
    }
   ],
   "source": [
    "df"
   ]
  },
  {
   "cell_type": "code",
   "execution_count": 9,
   "metadata": {},
   "outputs": [],
   "source": [
    "target = 'cases_new'"
   ]
  },
  {
   "cell_type": "code",
   "execution_count": 10,
   "metadata": {},
   "outputs": [],
   "source": [
    "#train_x, test_x, train_y, test_y = train_test_split(df.drop([target], axis=1), df[target], test_size=0.2, random_state=0)\n",
    "y_train = df[target]\n",
    "X_train = df.drop(columns=target)"
   ]
  },
  {
   "cell_type": "code",
   "execution_count": 61,
   "metadata": {},
   "outputs": [],
   "source": [
    "seed = 1273"
   ]
  },
  {
   "cell_type": "code",
   "execution_count": 94,
   "metadata": {},
   "outputs": [],
   "source": [
    "def train(model, X, y):\n",
    "    models = []\n",
    "    scores = []\n",
    "    #tscv = TimeSeriesSplit(n_splits=10)\n",
    "    kf = KFold(n_splits=10)\n",
    "    \n",
    "    for train_index, test_index in kf.split(X):\n",
    "        model_new = clone(model)\n",
    "        X_train, X_test = X.iloc[train_index], X.iloc[test_index]\n",
    "        y_train, y_test = y.iloc[train_index], y.iloc[test_index]\n",
    "        model_new.fit(X_train, y_train)\n",
    "        result = mean_squared_error(y_test, model_new.predict(X_test))**0.5\n",
    "        \n",
    "        models.append(model_new)\n",
    "        scores.append(result)\n",
    "        \n",
    "    return models, scores"
   ]
  },
  {
   "cell_type": "markdown",
   "metadata": {},
   "source": [
    "## 6.3 Decision Tree Regressor"
   ]
  },
  {
   "cell_type": "code",
   "execution_count": 103,
   "metadata": {},
   "outputs": [],
   "source": [
    "decision_tree = DecisionTreeRegressor()\n",
    "dt_models, dt_results = train(decision_tree, X_train, y_train)"
   ]
  },
  {
   "cell_type": "code",
   "execution_count": 108,
   "metadata": {},
   "outputs": [
    {
     "data": {
      "text/plain": [
       "array([ 7.74381474,  9.20326029, 13.8552036 , 46.80562644, 30.30401514,\n",
       "       40.05728656, 11.23878752, 14.05530946, 28.99881091, 19.67406835])"
      ]
     },
     "execution_count": 108,
     "metadata": {},
     "output_type": "execute_result"
    }
   ],
   "source": [
    "np.array(dt_results)"
   ]
  },
  {
   "cell_type": "markdown",
   "metadata": {},
   "source": [
    "## 6.4 Random Forest"
   ]
  },
  {
   "cell_type": "code",
   "execution_count": 130,
   "metadata": {},
   "outputs": [],
   "source": [
    "random_forest = RandomForestRegressor(n_estimators=10)\n",
    "rf_models, rf_results = train(random_forest, X_train, y_train)"
   ]
  },
  {
   "cell_type": "code",
   "execution_count": 131,
   "metadata": {},
   "outputs": [
    {
     "data": {
      "text/plain": [
       "array([ 6.76192773,  6.29102535, 10.87897054, 16.0369781 , 31.36030931,\n",
       "       27.64238375, 11.70676197, 11.4620062 , 22.71856297, 15.97938327])"
      ]
     },
     "execution_count": 131,
     "metadata": {},
     "output_type": "execute_result"
    }
   ],
   "source": [
    "np.array(rf_results)"
   ]
  },
  {
   "cell_type": "markdown",
   "metadata": {},
   "source": [
    "## 6.5 BaggingRegressor"
   ]
  },
  {
   "cell_type": "code",
   "execution_count": 111,
   "metadata": {},
   "outputs": [],
   "source": [
    "bagging = BaggingRegressor()\n",
    "bagging_models, bagging_results = train(bagging, X_train, y_train)"
   ]
  },
  {
   "cell_type": "code",
   "execution_count": 112,
   "metadata": {},
   "outputs": [
    {
     "data": {
      "text/plain": [
       "array([ 7.58764346,  5.53133498,  9.78197322, 18.8031469 , 26.48229597,\n",
       "       26.41445529, 11.54471069,  9.96383114, 22.35770329, 14.28149273])"
      ]
     },
     "execution_count": 112,
     "metadata": {},
     "output_type": "execute_result"
    }
   ],
   "source": [
    "np.array(bagging_results)"
   ]
  },
  {
   "cell_type": "markdown",
   "metadata": {},
   "source": [
    "## 6.6 ExtraTreesRegressor"
   ]
  },
  {
   "cell_type": "code",
   "execution_count": 113,
   "metadata": {},
   "outputs": [],
   "source": [
    "etr = ExtraTreesRegressor()\n",
    "etr_models, etr_results = train(etr, X_train, y_train)"
   ]
  },
  {
   "cell_type": "code",
   "execution_count": 114,
   "metadata": {
    "scrolled": true
   },
   "outputs": [
    {
     "data": {
      "text/plain": [
       "array([ 6.09040831,  5.91046868, 10.46561385, 14.15727375, 30.44593695,\n",
       "       25.72566926, 10.36218689, 10.92010294, 22.19589617, 13.0552085 ])"
      ]
     },
     "execution_count": 114,
     "metadata": {},
     "output_type": "execute_result"
    }
   ],
   "source": [
    "np.array(etr_results)"
   ]
  },
  {
   "cell_type": "markdown",
   "metadata": {},
   "source": [
    "## Linear Regression"
   ]
  },
  {
   "cell_type": "code",
   "execution_count": 118,
   "metadata": {},
   "outputs": [],
   "source": [
    "lr = LinearRegression()\n",
    "lr_models, lr_results = train(lr, X_train, y_train)"
   ]
  },
  {
   "cell_type": "code",
   "execution_count": 120,
   "metadata": {
    "scrolled": false
   },
   "outputs": [
    {
     "data": {
      "text/plain": [
       "array([ 5.63023459,  6.23228354, 11.02249386,  8.23768149, 25.84349626,\n",
       "       28.82823537,  8.61154818, 11.18586362, 21.83067374,  9.0560776 ])"
      ]
     },
     "execution_count": 120,
     "metadata": {},
     "output_type": "execute_result"
    }
   ],
   "source": [
    "np.array(lr_results)"
   ]
  },
  {
   "cell_type": "markdown",
   "metadata": {},
   "source": [
    "## MLPRegressor"
   ]
  },
  {
   "cell_type": "code",
   "execution_count": 146,
   "metadata": {},
   "outputs": [],
   "source": [
    "mlpr = MLPRegressor(solver = 'lbfgs')\n",
    "mlpr_models, mlpr_results = train(mlpr, X_train, y_train)"
   ]
  },
  {
   "cell_type": "code",
   "execution_count": 147,
   "metadata": {
    "scrolled": true
   },
   "outputs": [
    {
     "data": {
      "text/plain": [
       "array([ 136.86999832,  121.07160438, 1276.41444409,  812.61411957,\n",
       "         82.65364801,  102.75809199,   17.63404112,   31.22411292,\n",
       "         82.90440034,   68.79227545])"
      ]
     },
     "execution_count": 147,
     "metadata": {},
     "output_type": "execute_result"
    }
   ],
   "source": [
    "np.array(mlpr_results)"
   ]
  },
  {
   "cell_type": "markdown",
   "metadata": {},
   "source": [
    "## KNeighborsRegressor"
   ]
  },
  {
   "cell_type": "code",
   "execution_count": 133,
   "metadata": {},
   "outputs": [],
   "source": [
    "knr = KNeighborsRegressor()\n",
    "knr_models, knr_results = train(knr, X_train, y_train)"
   ]
  },
  {
   "cell_type": "code",
   "execution_count": 134,
   "metadata": {},
   "outputs": [
    {
     "data": {
      "text/plain": [
       "array([27.17712273, 22.60233026, 18.8625555 , 40.72594587, 43.16561903,\n",
       "       23.95510168, 14.6130787 , 17.35014658, 32.98965355, 14.10380237])"
      ]
     },
     "execution_count": 134,
     "metadata": {},
     "output_type": "execute_result"
    }
   ],
   "source": [
    "np.array(knr_results)"
   ]
  },
  {
   "cell_type": "markdown",
   "metadata": {},
   "source": [
    "## SVR"
   ]
  },
  {
   "cell_type": "code",
   "execution_count": 137,
   "metadata": {},
   "outputs": [],
   "source": [
    "svr = SVR(gamma='auto')\n",
    "svr_models, svr_results = train(svr, X_train, y_train)"
   ]
  },
  {
   "cell_type": "code",
   "execution_count": 138,
   "metadata": {},
   "outputs": [
    {
     "data": {
      "text/plain": [
       "array([23.60720229, 19.35458602, 12.63240084, 14.4359676 , 45.13053403,\n",
       "       32.53147547,  7.8650008 , 12.0407321 , 33.7676697 , 15.58731041])"
      ]
     },
     "execution_count": 138,
     "metadata": {},
     "output_type": "execute_result"
    }
   ],
   "source": [
    "np.array(svr_results)"
   ]
  },
  {
   "cell_type": "code",
   "execution_count": 24,
   "metadata": {},
   "outputs": [],
   "source": [
    "picklestring = pickle.dumps(df)"
   ]
  },
  {
   "cell_type": "code",
   "execution_count": 26,
   "metadata": {},
   "outputs": [
    {
     "data": {
      "text/plain": [
       "57704"
      ]
     },
     "execution_count": 26,
     "metadata": {},
     "output_type": "execute_result"
    }
   ],
   "source": [
    "len(picklestring)"
   ]
  }
 ],
 "metadata": {
  "kernelspec": {
   "display_name": "Python 3",
   "language": "python",
   "name": "python3"
  },
  "language_info": {
   "codemirror_mode": {
    "name": "ipython",
    "version": 3
   },
   "file_extension": ".py",
   "mimetype": "text/x-python",
   "name": "python",
   "nbconvert_exporter": "python",
   "pygments_lexer": "ipython3",
   "version": "3.8.6"
  }
 },
 "nbformat": 4,
 "nbformat_minor": 4
}
